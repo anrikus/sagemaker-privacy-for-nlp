{
 "cells": [
  {
   "cell_type": "markdown",
   "metadata": {
    "papermill": {
     "duration": 0.010887,
     "end_time": "2020-11-28T00:09:13.196113",
     "exception": false,
     "start_time": "2020-11-28T00:09:13.185226",
     "status": "completed"
    },
    "tags": []
   },
   "source": [
    "This noteboook launches the solution, with a parameter that instructs the instance to run the solution's notebook using papermill, wait for that process to finish, then raise any errors encountered while running the notebook to the build.\n",
    "\n",
    "The _build instance_ will launch the solution using the following parameters, which can be overriden by providing them as enviroment variables in the build settings. Since the build instance is launching the solution, the build project needs to be provided with all the permissions that are necessary to launch the solution."
   ]
  },
  {
   "cell_type": "code",
   "execution_count": 1,
   "metadata": {
    "execution": {
     "iopub.execute_input": "2020-11-28T00:09:13.216904Z",
     "iopub.status.busy": "2020-11-28T00:09:13.216487Z",
     "iopub.status.idle": "2020-11-28T00:09:13.218851Z",
     "shell.execute_reply": "2020-11-28T00:09:13.218442Z"
    },
    "papermill": {
     "duration": 0.015208,
     "end_time": "2020-11-28T00:09:13.218992",
     "exception": false,
     "start_time": "2020-11-28T00:09:13.203784",
     "status": "completed"
    },
    "tags": [
     "parameters"
    ]
   },
   "outputs": [],
   "source": [
    "BRANCH=\"mainline\"\n",
    "REGION=\"us-west-2\"\n",
    "SOLUTIONS_BUCKET=\"sagemaker-solutions-devo\"\n",
    "SOLUTION_NAME=\"sagemaker-privacy-for-nlp\"\n",
    "STACK_NAME=\"sagemaker-soln-pnlp-ci\"\n",
    "STACK_VERSION=\"development\"\n",
    "COMMIT_ID = \"\"\n",
    "CI_BUCKET = \"\"\n",
    "EXECUTION_ID = \"\"\n",
    "NOTEBOOK_POLL_ATTEMPTS=120 # Number of attempts while waiting for SM notebook to execute and produce output on S3\n",
    "NOTEBOOK_POLL_DELAY=60 # Delay between each attempt, in seconds"
   ]
  },
  {
   "cell_type": "code",
   "execution_count": 2,
   "metadata": {
    "execution": {
     "iopub.execute_input": "2020-11-28T00:09:13.235028Z",
     "iopub.status.busy": "2020-11-28T00:09:13.234657Z",
     "iopub.status.idle": "2020-11-28T00:09:13.236689Z",
     "shell.execute_reply": "2020-11-28T00:09:13.237104Z"
    },
    "papermill": {
     "duration": 0.011509,
     "end_time": "2020-11-28T00:09:13.237253",
     "exception": false,
     "start_time": "2020-11-28T00:09:13.225744",
     "status": "completed"
    },
    "tags": [
     "injected-parameters"
    ]
   },
   "outputs": [],
   "source": [
    "# Parameters\n",
    "STACK_NAME = \"sagemaker-soln-pnlp-ba44ca-us-west-2\"\n",
    "BRANCH = \"multi-region\"\n",
    "EXECUTION_ID = \"d3fccb5c-ef42-42f8-aee3-4253ddba44ca\"\n",
    "CI_BUCKET = \"sagemaker-soln-pnlp-ba44ca-us-west-2\"\n",
    "REGION = \"us-west-2\"\n",
    "SOLUTIONS_BUCKET = \"sagemaker-solutions-devo\"\n",
    "STACK_VERSION = \"development\"\n"
   ]
  },
  {
   "cell_type": "markdown",
   "metadata": {
    "papermill": {
     "duration": 0.006258,
     "end_time": "2020-11-28T00:09:13.250478",
     "exception": false,
     "start_time": "2020-11-28T00:09:13.244220",
     "status": "completed"
    },
    "tags": []
   },
   "source": [
    "The next cell programmatically creates the URL for the solution's template, based on the parameters passed above. It's important to include the branch suffix to be able to support feature branches as well as the mainline release pipeline."
   ]
  },
  {
   "cell_type": "code",
   "execution_count": 3,
   "metadata": {
    "execution": {
     "iopub.execute_input": "2020-11-28T00:09:13.266848Z",
     "iopub.status.busy": "2020-11-28T00:09:13.266469Z",
     "iopub.status.idle": "2020-11-28T00:09:13.268544Z",
     "shell.execute_reply": "2020-11-28T00:09:13.268164Z"
    },
    "papermill": {
     "duration": 0.011285,
     "end_time": "2020-11-28T00:09:13.268630",
     "exception": false,
     "start_time": "2020-11-28T00:09:13.257345",
     "status": "completed"
    },
    "tags": []
   },
   "outputs": [],
   "source": [
    "branch_suffix = \"\" if BRANCH == \"mainline\" else f\"-{BRANCH}\"\n",
    "template_url = f\"https://{SOLUTIONS_BUCKET}-{REGION}.s3-{REGION}.amazonaws.com/{SOLUTION_NAME}{branch_suffix}/deployment/sagemaker-privacy-for-nlp.yaml\"\n"
   ]
  },
  {
   "cell_type": "markdown",
   "metadata": {
    "papermill": {
     "duration": 0.007111,
     "end_time": "2020-11-28T00:09:13.283466",
     "exception": false,
     "start_time": "2020-11-28T00:09:13.276355",
     "status": "completed"
    },
    "tags": []
   },
   "source": [
    "In the next cell we create a unique prefix for our solution, and use an S3 bucket created in test/buildspec.yml that will serve as the destination for the notebook files we run on the SM instance. It's important that its name starts with the solution prefix, as that will allow the solution itself to write to it (because the solution should have write access to all `sagemaker-soln-` buckets under the same account)."
   ]
  },
  {
   "cell_type": "code",
   "execution_count": 4,
   "metadata": {
    "execution": {
     "iopub.execute_input": "2020-11-28T00:09:13.301952Z",
     "iopub.status.busy": "2020-11-28T00:09:13.301534Z",
     "iopub.status.idle": "2020-11-28T00:09:13.509167Z",
     "shell.execute_reply": "2020-11-28T00:09:13.509523Z"
    },
    "papermill": {
     "duration": 0.218616,
     "end_time": "2020-11-28T00:09:13.509644",
     "exception": false,
     "start_time": "2020-11-28T00:09:13.291028",
     "status": "completed"
    },
    "tags": []
   },
   "outputs": [
    {
     "name": "stderr",
     "output_type": "stream",
     "text": [
      "INFO:botocore.credentials:Found credentials in shared credentials file: ~/.aws/credentials\n"
     ]
    }
   ],
   "source": [
    "import boto3\n",
    "import logging\n",
    "import os\n",
    "\n",
    "logging.basicConfig(level=os.environ.get(\"LOGLEVEL\", \"INFO\"))\n",
    "\n",
    "cfn_client = boto3.client('cloudformation', region_name=REGION)\n",
    "s3_client = boto3.client('s3', region_name=REGION)\n",
    "s3 = boto3.resource('s3', region_name=REGION)\n",
    "\n",
    "# Use the commit id to give the solution a unique prefix and name\n",
    "solution_prefix = \"sagemaker-soln-pnlp-\" # TODO: Get from template directly\n",
    "unique_prefix = f\"{solution_prefix}{EXECUTION_ID[:6]}-{REGION}\""
   ]
  },
  {
   "cell_type": "markdown",
   "metadata": {
    "papermill": {
     "duration": 0.006847,
     "end_time": "2020-11-28T00:09:13.523644",
     "exception": false,
     "start_time": "2020-11-28T00:09:13.516797",
     "status": "completed"
    },
    "tags": []
   },
   "source": [
    "The `TestOutputsS3Bucket` CloudFormation parameter given in the next cell, is parsed by CloudFormation and taken in by the project's configuration package. When this parameter is set to something different than `\"\"`, the notebook instance will run the solution's notebook using papermill, through the instance's on-start script."
   ]
  },
  {
   "cell_type": "code",
   "execution_count": 5,
   "metadata": {
    "execution": {
     "iopub.execute_input": "2020-11-28T00:09:13.541108Z",
     "iopub.status.busy": "2020-11-28T00:09:13.540633Z",
     "iopub.status.idle": "2020-11-28T00:09:14.203319Z",
     "shell.execute_reply": "2020-11-28T00:09:14.203903Z"
    },
    "papermill": {
     "duration": 0.673434,
     "end_time": "2020-11-28T00:09:14.204041",
     "exception": false,
     "start_time": "2020-11-28T00:09:13.530607",
     "status": "completed"
    },
    "tags": []
   },
   "outputs": [
    {
     "name": "stderr",
     "output_type": "stream",
     "text": [
      "INFO:root:Creating stack using template located at https://sagemaker-solutions-devo-us-west-2.s3-us-west-2.amazonaws.com/sagemaker-privacy-for-nlp-multi-region/deployment/sagemaker-privacy-for-nlp.yaml\n"
     ]
    },
    {
     "data": {
      "text/plain": [
       "{'StackId': 'arn:aws:cloudformation:us-west-2:412868550678:stack/sagemaker-soln-pnlp-ba44ca-us-west-2/f26e41a0-310d-11eb-a754-06822d005ce6',\n",
       " 'ResponseMetadata': {'RequestId': '845d2efd-17c4-4941-9c73-a24bf518a377',\n",
       "  'HTTPStatusCode': 200,\n",
       "  'HTTPHeaders': {'x-amzn-requestid': '845d2efd-17c4-4941-9c73-a24bf518a377',\n",
       "   'content-type': 'text/xml',\n",
       "   'content-length': '406',\n",
       "   'date': 'Sat, 28 Nov 2020 00:09:13 GMT'},\n",
       "  'RetryAttempts': 0}}"
      ]
     },
     "execution_count": 5,
     "metadata": {},
     "output_type": "execute_result"
    }
   ],
   "source": [
    "logging.info(f\"Creating stack using template located at {template_url}\")\n",
    "cfn_client.create_stack(\n",
    "    StackName=STACK_NAME,\n",
    "    TemplateURL=template_url,\n",
    "    Parameters=[\n",
    "        {\n",
    "            'ParameterKey': 'SolutionPrefix',\n",
    "            'ParameterValue': unique_prefix\n",
    "        },\n",
    "        {\n",
    "            'ParameterKey': 'StackVersion',\n",
    "            'ParameterValue': STACK_VERSION\n",
    "        },\n",
    "        {\n",
    "            'ParameterKey': 'TestOutputsS3Bucket',\n",
    "            'ParameterValue': CI_BUCKET\n",
    "        },\n",
    "        {\n",
    "            'ParameterKey': 'SolutionName',\n",
    "            'ParameterValue': f\"{SOLUTION_NAME}{branch_suffix}\"\n",
    "        },\n",
    "        {\n",
    "            'ParameterKey': 'BuildSageMakerContainersRemotely',\n",
    "            'ParameterValue': \"true\"\n",
    "        }\n",
    "    ],\n",
    "    Capabilities=[\n",
    "        'CAPABILITY_IAM',\n",
    "        'CAPABILITY_NAMED_IAM'\n",
    "    ]\n",
    ")"
   ]
  },
  {
   "cell_type": "markdown",
   "metadata": {
    "papermill": {
     "duration": 0.009083,
     "end_time": "2020-11-28T00:09:14.222138",
     "exception": false,
     "start_time": "2020-11-28T00:09:14.213055",
     "status": "completed"
    },
    "tags": []
   },
   "source": [
    "We then wait for the stack to finish launching."
   ]
  },
  {
   "cell_type": "code",
   "execution_count": 6,
   "metadata": {
    "execution": {
     "iopub.execute_input": "2020-11-28T00:09:14.240993Z",
     "iopub.status.busy": "2020-11-28T00:09:14.240557Z",
     "iopub.status.idle": "2020-11-28T00:15:15.871759Z",
     "shell.execute_reply": "2020-11-28T00:15:15.870947Z"
    },
    "papermill": {
     "duration": 361.641724,
     "end_time": "2020-11-28T00:15:15.871855",
     "exception": false,
     "start_time": "2020-11-28T00:09:14.230131",
     "status": "completed"
    },
    "tags": []
   },
   "outputs": [
    {
     "name": "stderr",
     "output_type": "stream",
     "text": [
      "INFO:root:Waiting for stack creation to complete...\n"
     ]
    },
    {
     "name": "stderr",
     "output_type": "stream",
     "text": [
      "INFO:root:Stack creation complete, notebook run has begun...\n"
     ]
    },
    {
     "name": "stderr",
     "output_type": "stream",
     "text": [
      "INFO:root:Notebook instance run logs will be available at:\n"
     ]
    },
    {
     "name": "stderr",
     "output_type": "stream",
     "text": [
      "INFO:root:https://us-west-2.console.aws.amazon.com/cloudwatch/home?region=us-west-2#logsV2:log-groups/log-group/$252Faws$252Fsagemaker$252FNotebookInstances/log-events/sagemaker-soln-pnlp-d3fccb-us-west-2-notebook-instance$252Frun-notebook.log\n"
     ]
    }
   ],
   "source": [
    "logging.info(\"Waiting for stack creation to complete...\")\n",
    "waiter = cfn_client.get_waiter('stack_create_complete')\n",
    "\n",
    "waiter.wait(StackName=STACK_NAME)\n",
    "logging.info(\"Stack creation complete, notebook run has begun...\")\n",
    "\n",
    "logging.info(\"Notebook instance run logs will be available at:\")\n",
    "logging.info(f\"https://{REGION}.console.aws.amazon.com/cloudwatch/home?region=us-west-2#logsV2:log-groups/log-group/$252Faws$252Fsagemaker$252FNotebookInstances/log-events/{unique_prefix}-notebook-instance$252Frun-notebook.log\")"
   ]
  },
  {
   "cell_type": "markdown",
   "metadata": {
    "papermill": {
     "duration": 0.008154,
     "end_time": "2020-11-28T00:15:15.888597",
     "exception": false,
     "start_time": "2020-11-28T00:15:15.880443",
     "status": "completed"
    },
    "tags": []
   },
   "source": [
    "Once the stack has finished creating, the OnStart script will attempt to run the notebooks in order, through the `test/run_notebook.py` script. The notebook is run using papermill, and creates outputs in the CI S3 bucket we created previously. The following function will continuously poll the expected location until the output file appears, or errors out after `NOTEBOOK_POLL_DELAY * NOTEBOOK_POLL_ATTEMPTS` seconds. This also means that the CodeBuild project needs to be able to read files from the particular bucket.\n",
    "\n",
    "Note that if this is longer than the build stage's timeout, the build stage will fail. If your solution's notebooks take very long to run, make sure to [increase the build stage's time out](https://docs.aws.amazon.com/codebuild/latest/userguide/change-project-console.html) as well, can be set using a parameter in the CFT you used to create the pipeline.\n",
    "\n",
    "Once the notebook appears in the expected location in S3, we download it locally within the build instance, and the stdout and stderr output we got from running the notebook. This doesn't actually run the notebook, but will raise and surface any errors that we triggered during execution on the SM notebook instance."
   ]
  },
  {
   "cell_type": "code",
   "execution_count": 7,
   "metadata": {
    "execution": {
     "iopub.execute_input": "2020-11-28T00:15:15.907769Z",
     "iopub.status.busy": "2020-11-28T00:15:15.907407Z",
     "iopub.status.idle": "2020-11-28T00:15:16.167713Z",
     "shell.execute_reply": "2020-11-28T00:15:16.168016Z"
    },
    "papermill": {
     "duration": 0.271944,
     "end_time": "2020-11-28T00:15:16.168134",
     "exception": false,
     "start_time": "2020-11-28T00:15:15.896190",
     "status": "completed"
    },
    "tags": []
   },
   "outputs": [],
   "source": [
    "# Dry-run execute the notebook, raising errors if any existed\n",
    "import papermill as pm\n",
    "\n",
    "def dry_run_notebook(notebook_name, CI_BUCKET):\n",
    "    notebook_filename = f\"{notebook_name}-output.ipynb\"\n",
    "    logging.info(\"Downloading notebook outputs locally...\")\n",
    "    s3.meta.client.download_file(CI_BUCKET, notebook_filename, notebook_filename)\n",
    "    try:\n",
    "        s3.meta.client.download_file(CI_BUCKET, f\"{notebook_name}-output_stdout.txt\", f\"{notebook_name}-output_stdout.txt\")\n",
    "        s3.meta.client.download_file(CI_BUCKET, f\"{notebook_name}-output_stderr.txt\", f\"{notebook_name}-output_stderr.txt\")\n",
    "    except:\n",
    "        pass\n",
    "\n",
    "    logging.info(f\"Performing dry-run of notebook {notebook_filename} to surface any errors...\")\n",
    "    nb = pm.iorw.load_notebook_node(notebook_filename)\n",
    "    pm.execute.raise_for_execution_errors(nb, notebook_filename)"
   ]
  },
  {
   "cell_type": "markdown",
   "metadata": {
    "papermill": {
     "duration": 0.007716,
     "end_time": "2020-11-28T00:15:16.183849",
     "exception": false,
     "start_time": "2020-11-28T00:15:16.176133",
     "status": "completed"
    },
    "tags": []
   },
   "source": []
  },
  {
   "cell_type": "code",
   "execution_count": 8,
   "metadata": {
    "execution": {
     "iopub.execute_input": "2020-11-28T00:15:16.204397Z",
     "iopub.status.busy": "2020-11-28T00:15:16.203871Z",
     "iopub.status.idle": "2020-11-28T00:43:20.538656Z",
     "shell.execute_reply": "2020-11-28T00:43:20.540498Z"
    },
    "papermill": {
     "duration": 1684.353918,
     "end_time": "2020-11-28T00:43:20.545959",
     "exception": false,
     "start_time": "2020-11-28T00:15:16.192041",
     "status": "completed"
    },
    "tags": []
   },
   "outputs": [
    {
     "name": "stderr",
     "output_type": "stream",
     "text": [
      "INFO:root:Waiting for output notebook to appear at sagemaker-soln-pnlp-ba44ca-us-west-2/1.Data_Privatization-output.ipynb...\n"
     ]
    },
    {
     "name": "stderr",
     "output_type": "stream",
     "text": [
      "INFO:root:Will attempt a total 120 polls every 60 seconds.\n"
     ]
    },
    {
     "name": "stderr",
     "output_type": "stream",
     "text": [
      "INFO:root:Downloading notebook outputs locally...\n"
     ]
    },
    {
     "name": "stderr",
     "output_type": "stream",
     "text": [
      "INFO:root:Performing dry-run of notebook 1.Data_Privatization-output.ipynb to surface any errors...\n"
     ]
    },
    {
     "name": "stderr",
     "output_type": "stream",
     "text": [
      "INFO:root:Waiting for output notebook to appear at sagemaker-soln-pnlp-ba44ca-us-west-2/2.Model_Training-output.ipynb...\n"
     ]
    },
    {
     "name": "stderr",
     "output_type": "stream",
     "text": [
      "INFO:root:Will attempt a total 120 polls every 60 seconds.\n"
     ]
    },
    {
     "name": "stderr",
     "output_type": "stream",
     "text": [
      "INFO:root:Downloading notebook outputs locally...\n"
     ]
    },
    {
     "name": "stderr",
     "output_type": "stream",
     "text": [
      "INFO:root:Performing dry-run of notebook 2.Model_Training-output.ipynb to surface any errors...\n"
     ]
    }
   ],
   "source": [
    "# TODO: Ensure there's a single source for these filenames, we should be able to list the notebook dir and order by name\n",
    "# Right now they're set here and in run_notebook.py.\n",
    "import os\n",
    "\n",
    "solution_notebooks = [\n",
    "            \"1.Data_Privatization\",\n",
    "            \"2.Model_Training\"\n",
    "            ]\n",
    "\n",
    "for name in solution_notebooks:\n",
    "    notebook_filename = f\"{name}-output.ipynb\"\n",
    "\n",
    "    logging.info(f\"Waiting for output notebook to appear at {CI_BUCKET}/{notebook_filename}...\")\n",
    "    logging.info(f\"Will attempt a total {NOTEBOOK_POLL_ATTEMPTS} polls every {NOTEBOOK_POLL_DELAY} seconds.\")\n",
    "\n",
    "    waiter = s3_client.get_waiter('object_exists')\n",
    "    waiter.wait(Bucket=CI_BUCKET, Key=notebook_filename, WaiterConfig={'Delay': NOTEBOOK_POLL_DELAY,'MaxAttempts': NOTEBOOK_POLL_ATTEMPTS})\n",
    "    dry_run_notebook(name, CI_BUCKET)\n"
   ]
  },
  {
   "cell_type": "markdown",
   "metadata": {
    "papermill": {
     "duration": 0.010567,
     "end_time": "2020-11-28T00:43:20.574310",
     "exception": false,
     "start_time": "2020-11-28T00:43:20.563743",
     "status": "completed"
    },
    "tags": []
   },
   "source": []
  },
  {
   "cell_type": "code",
   "execution_count": 9,
   "metadata": {
    "execution": {
     "iopub.execute_input": "2020-11-28T00:43:20.609219Z",
     "iopub.status.busy": "2020-11-28T00:43:20.608798Z",
     "iopub.status.idle": "2020-11-28T00:43:20.610756Z",
     "shell.execute_reply": "2020-11-28T00:43:20.611076Z"
    },
    "papermill": {
     "duration": 0.024797,
     "end_time": "2020-11-28T00:43:20.611187",
     "exception": false,
     "start_time": "2020-11-28T00:43:20.586390",
     "status": "completed"
    },
    "tags": []
   },
   "outputs": [
    {
     "name": "stdout",
     "output_type": "stream",
     "text": [
      "Test deployment and notebook execution completed successfully!\n"
     ]
    }
   ],
   "source": [
    "print(\"Test deployment and notebook execution completed successfully!\")"
   ]
  },
  {
   "cell_type": "markdown",
   "metadata": {
    "papermill": {
     "duration": 0.010037,
     "end_time": "2020-11-28T00:43:20.631291",
     "exception": false,
     "start_time": "2020-11-28T00:43:20.621254",
     "status": "completed"
    },
    "tags": []
   },
   "source": [
    "The build project's artifacts will include all the files you download locally here, so they will end up on S3, where you can go and check out the output to debug any errors in this or the solution's notebook. You can find the build artifacts by browsing to the CI build stage in your pipeline."
   ]
  }
 ],
 "metadata": {
  "celltoolbar": "Tags",
  "kernelspec": {
   "display_name": "python3",
   "language": "python",
   "name": "python3"
  },
  "language_info": {
   "codemirror_mode": {
    "name": "ipython",
    "version": 3
   },
   "file_extension": ".py",
   "mimetype": "text/x-python",
   "name": "python",
   "nbconvert_exporter": "python",
   "pygments_lexer": "ipython3",
   "version": "3.7.4"
  },
  "papermill": {
   "duration": 2049.046314,
   "end_time": "2020-11-28T00:43:21.069891",
   "environment_variables": {},
   "exception": null,
   "input_path": "./test/test_deployment.ipynb",
   "output_path": "./test/test_deployment_out.ipynb",
   "parameters": {
    "BRANCH": "multi-region",
    "CI_BUCKET": "sagemaker-soln-pnlp-ba44ca-us-west-2",
    "EXECUTION_ID": "d3fccb5c-ef42-42f8-aee3-4253ddba44ca",
    "REGION": "us-west-2",
    "SOLUTIONS_BUCKET": "sagemaker-solutions-devo",
    "STACK_NAME": "sagemaker-soln-pnlp-ba44ca-us-west-2",
    "STACK_VERSION": "development"
   },
   "start_time": "2020-11-28T00:09:12.023577",
   "version": "2.1.2"
  }
 },
 "nbformat": 4,
 "nbformat_minor": 4
}